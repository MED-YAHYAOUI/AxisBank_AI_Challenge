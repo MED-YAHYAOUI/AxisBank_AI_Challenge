{
  "nbformat": 4,
  "nbformat_minor": 0,
  "metadata": {
    "colab": {
      "name": "submission_csv.ipynb",
      "version": "0.3.2",
      "provenance": [],
      "collapsed_sections": []
    },
    "kernelspec": {
      "name": "python3",
      "display_name": "Python 3"
    },
    "accelerator": "GPU"
  },
  "cells": [
    {
      "metadata": {
        "id": "3DO8GbvHCTFe",
        "colab_type": "text"
      },
      "cell_type": "markdown",
      "source": [
        "## Installing PyTorch and Pillow == 0.4"
      ]
    },
    {
      "metadata": {
        "id": "a-aWTgsoqPMY",
        "colab_type": "code",
        "outputId": "605a0809-4885-427e-d0a6-8d617c1ae410",
        "colab": {
          "base_uri": "https://localhost:8080/",
          "height": 51
        }
      },
      "cell_type": "code",
      "source": [
        "from os import path\n",
        "from wheel.pep425tags import get_abbr_impl, get_impl_ver, get_abi_tag\n",
        "platform = '{}{}-{}'.format(get_abbr_impl(), get_impl_ver(), get_abi_tag())\n",
        "\n",
        "accelerator = 'cu80' if path.exists('/opt/bin/nvidia-smi') else 'cpu'\n",
        "\n",
        "!pip install -q http://download.pytorch.org/whl/{accelerator}/torch-0.4.0-{platform}-linux_x86_64.whl torchvision\n",
        "import torch\n",
        "print(torch.__version__)\n",
        "print(torch.cuda.is_available())"
      ],
      "execution_count": 1,
      "outputs": [
        {
          "output_type": "stream",
          "text": [
            "0.4.0\n",
            "True\n"
          ],
          "name": "stdout"
        }
      ]
    },
    {
      "metadata": {
        "id": "dgvaG5wBxh5r",
        "colab_type": "code",
        "outputId": "0d974c76-4dc9-436b-bf74-eb934539c766",
        "colab": {
          "base_uri": "https://localhost:8080/",
          "height": 190
        }
      },
      "cell_type": "code",
      "source": [
        "!pip install Pillow==4.0.0 "
      ],
      "execution_count": 2,
      "outputs": [
        {
          "output_type": "stream",
          "text": [
            "Collecting Pillow==4.0.0\n",
            "  Using cached https://files.pythonhosted.org/packages/37/e8/b3fbf87b0188d22246678f8cd61e23e31caa1769ebc06f1664e2e5fe8a17/Pillow-4.0.0-cp36-cp36m-manylinux1_x86_64.whl\n",
            "Requirement already satisfied: olefile in /usr/local/lib/python3.6/dist-packages (from Pillow==4.0.0) (0.46)\n",
            "\u001b[31mtorchvision 0.2.1 has requirement pillow>=4.1.1, but you'll have pillow 4.0.0 which is incompatible.\u001b[0m\n",
            "Installing collected packages: Pillow\n",
            "  Found existing installation: Pillow 5.3.0\n",
            "    Uninstalling Pillow-5.3.0:\n",
            "      Successfully uninstalled Pillow-5.3.0\n",
            "Successfully installed Pillow-4.0.0\n"
          ],
          "name": "stdout"
        }
      ]
    },
    {
      "metadata": {
        "id": "_KDVGZSzwL8C",
        "colab_type": "text"
      },
      "cell_type": "markdown",
      "source": [
        "## Imports\n",
        "All the imports are defined here\n"
      ]
    },
    {
      "metadata": {
        "id": "DoZYfkp1s3g0",
        "colab_type": "code",
        "colab": {}
      },
      "cell_type": "code",
      "source": [
        "%matplotlib inline\n",
        "import os\n",
        "import torchvision\n",
        "import torchvision.datasets as dset\n",
        "import torchvision.transforms as transforms\n",
        "from torch.utils.data import DataLoader,Dataset\n",
        "import matplotlib.pyplot as plt\n",
        "import torchvision.utils\n",
        "import numpy as np\n",
        "import random\n",
        "from PIL import Image\n",
        "import torch\n",
        "from torch.autograd import Variable\n",
        "import PIL.ImageOps    \n",
        "import torch.nn as nn\n",
        "from torch import optim\n",
        "import torch.nn.functional as F"
      ],
      "execution_count": 0,
      "outputs": []
    },
    {
      "metadata": {
        "id": "Vv3mWNVfuNy7",
        "colab_type": "code",
        "outputId": "65ebc36b-30ea-429b-d92f-6f044bc62250",
        "colab": {
          "base_uri": "https://localhost:8080/",
          "height": 34
        }
      },
      "cell_type": "code",
      "source": [
        "from google.colab import drive\n",
        "drive.mount('/content/drive')"
      ],
      "execution_count": 34,
      "outputs": [
        {
          "output_type": "stream",
          "text": [
            "Drive already mounted at /content/drive; to attempt to forcibly remount, call drive.mount(\"/content/drive\", force_remount=True).\n"
          ],
          "name": "stdout"
        }
      ]
    },
    {
      "metadata": {
        "id": "xATopGlGvTM7",
        "colab_type": "code",
        "outputId": "c5f70024-6eef-4320-b785-a7c6f3acad9a",
        "colab": {
          "base_uri": "https://localhost:8080/",
          "height": 51
        }
      },
      "cell_type": "code",
      "source": [
        "!ls '/content/drive/My Drive/Colab Notebooks/axis_data/processed_dataset'"
      ],
      "execution_count": 35,
      "outputs": [
        {
          "output_type": "stream",
          "text": [
            "final_backup_saved_model.pt  modified_data_loader_saved_model.pt  testing\n",
            "forged\t\t\t     saved_model.pt\t\t\t  training\n"
          ],
          "name": "stdout"
        }
      ]
    },
    {
      "metadata": {
        "id": "s2ZB4D2uw7NC",
        "colab_type": "code",
        "colab": {}
      },
      "cell_type": "code",
      "source": [
        "class SiameseNetwork(nn.Module):\n",
        "    def __init__(self):\n",
        "        super(SiameseNetwork, self).__init__()\n",
        "        self.cnn1 = nn.Sequential(\n",
        "            nn.ReflectionPad2d(1),\n",
        "            nn.Conv2d(1, 128, kernel_size=3),\n",
        "            nn.ReLU(inplace=True),\n",
        "            nn.BatchNorm2d(128),\n",
        "            \n",
        "            nn.ReflectionPad2d(1),\n",
        "            nn.Conv2d(128, 64, kernel_size=3),\n",
        "            nn.ReLU(inplace=True),\n",
        "            nn.BatchNorm2d(64),\n",
        "            \n",
        "            nn.ReflectionPad2d(1),\n",
        "            nn.Conv2d(64, 32, kernel_size=3),\n",
        "            nn.ReLU(inplace=True),\n",
        "            nn.BatchNorm2d(32),\n",
        "\n",
        "            nn.ReflectionPad2d(1),\n",
        "            nn.Conv2d(32, 16, kernel_size=3),\n",
        "            nn.ReLU(inplace=True),\n",
        "            nn.BatchNorm2d(16),\n",
        "            \n",
        "            nn.ReflectionPad2d(1),\n",
        "            nn.Conv2d(16, 8, kernel_size=3),\n",
        "            nn.ReLU(inplace=True),\n",
        "            nn.BatchNorm2d(8),\n",
        "\n",
        "\n",
        "        )\n",
        "\n",
        "        self.fc1 = nn.Sequential(\n",
        "            nn.Linear(8*100*100, 500),\n",
        "            nn.ReLU(inplace=True),\n",
        "\n",
        "            nn.Linear(500, 500),\n",
        "            nn.ReLU(inplace=True),\n",
        "\n",
        "            nn.Linear(500, 5))\n",
        "\n",
        "    def forward_once(self, x):\n",
        "        output = self.cnn1(x)\n",
        "        output = output.view(output.size()[0], -1)\n",
        "        output = self.fc1(output)\n",
        "        return output\n",
        "\n",
        "    def forward(self, input1, input2):\n",
        "        output1 = self.forward_once(input1)\n",
        "        output2 = self.forward_once(input2)\n",
        "        return output1, output2"
      ],
      "execution_count": 0,
      "outputs": []
    },
    {
      "metadata": {
        "id": "Gn_C1nlkyCI6",
        "colab_type": "code",
        "colab": {}
      },
      "cell_type": "code",
      "source": [
        "net = SiameseNetwork().cuda()"
      ],
      "execution_count": 0,
      "outputs": []
    },
    {
      "metadata": {
        "id": "bcghLptlUEWK",
        "colab_type": "code",
        "colab": {}
      },
      "cell_type": "code",
      "source": [
        "# torch.save(net,\"/content/drive/My Drive/Colab Notebooks/axis_data/processed_dataset/saved_model.pt\")\n",
        "# net = torch.load(\"/content/drive/My Drive/Colab Notebooks/axis_data/processed_dataset/saved_model.pt\")\n",
        "\n",
        "# filepath = \"/content/drive/My Drive/Colab Notebooks/axis_data/processed_dataset/final_backup_saved_model.pt\" # 0.76 threshold\n",
        "\n",
        "filepath = \"/content/drive/My Drive/Colab Notebooks/axis_data/processed_dataset/modified_data_loader_saved_model.pt\"\n",
        "\n",
        "# torch.save(net.state_dict(), filepath)\n",
        "\n",
        "#Later to restore:\n",
        "net.load_state_dict(torch.load(filepath))"
      ],
      "execution_count": 0,
      "outputs": []
    },
    {
      "metadata": {
        "id": "lsExkrk8ZXz4",
        "colab_type": "code",
        "outputId": "841e46b3-9a62-4302-e767-0edfeacb75c4",
        "colab": {
          "base_uri": "https://localhost:8080/",
          "height": 51
        }
      },
      "cell_type": "code",
      "source": [
        "!ls '/content/drive/My Drive/Colab Notebooks/axis_data/processed_dataset/'"
      ],
      "execution_count": 39,
      "outputs": [
        {
          "output_type": "stream",
          "text": [
            "final_backup_saved_model.pt  modified_data_loader_saved_model.pt  testing\n",
            "forged\t\t\t     saved_model.pt\t\t\t  training\n"
          ],
          "name": "stdout"
        }
      ]
    },
    {
      "metadata": {
        "id": "Ob8boztVnYCG",
        "colab_type": "code",
        "colab": {}
      },
      "cell_type": "code",
      "source": [
        "def image_loader(loader, image_name):\n",
        "    image = Image.open(image_name)\n",
        "    image = image.convert(\"L\")\n",
        "    image = loader(image).float()\n",
        "    image = torch.tensor(image, requires_grad=True)\n",
        "    image = image.unsqueeze(0)\n",
        "    return image\n",
        "\n",
        "data_transforms = transforms.Compose([\n",
        "    transforms.Resize((100,100)),\n",
        "    transforms.ToTensor()\n",
        "])"
      ],
      "execution_count": 0,
      "outputs": []
    },
    {
      "metadata": {
        "id": "uqEe8LLqqkEQ",
        "colab_type": "code",
        "colab": {}
      },
      "cell_type": "code",
      "source": [
        "import pandas as pd\n",
        "import numpy as np\n",
        "import glob\n",
        "import os"
      ],
      "execution_count": 0,
      "outputs": []
    },
    {
      "metadata": {
        "id": "BwVYXQCpqkNd",
        "colab_type": "code",
        "colab": {}
      },
      "cell_type": "code",
      "source": [
        "col_names =  ['filename', 'confidence_score', 'decision']\n",
        "submision_csv  = pd.DataFrame(columns = col_names)"
      ],
      "execution_count": 0,
      "outputs": []
    },
    {
      "metadata": {
        "id": "UgVo7_RCqkQ4",
        "colab_type": "code",
        "colab": {}
      },
      "cell_type": "code",
      "source": [
        "names = [os.path.basename(x) for x in glob.glob('/content/drive/My Drive/Colab Notebooks/axis_data/final_sub/final_submission_test/*.jpg')]\n",
        "submision_csv['filename'] = names"
      ],
      "execution_count": 0,
      "outputs": []
    },
    {
      "metadata": {
        "id": "KB1YcQdEqkTq",
        "colab_type": "code",
        "colab": {}
      },
      "cell_type": "code",
      "source": [
        "TEST_DIR = '/content/drive/My Drive/Colab Notebooks/axis_data/final_sub/final_submission_test/'\n",
        "USER_REG_DIR = '/content/drive/My Drive/Colab Notebooks/axis_data/final_sub/final_submission_ordered/'\n",
        "\n",
        "for row in submision_csv.itertuples():\n",
        "    file = row.filename\n",
        "    user_id = file[3:][:-8]\n",
        "    confidence = 0\n",
        "    user_signs = glob.glob(USER_REG_DIR+user_id+'/*.jpg')\n",
        "    test_image = TEST_DIR + file\n",
        "    test_image = image_loader(data_transforms, test_image)\n",
        "    \n",
        "    for genuine_sign in user_signs:\n",
        "      user_sign = image_loader(data_transforms, genuine_sign)\n",
        "      output1,output2 = net(Variable(user_sign).cuda(),Variable(test_image).cuda())\n",
        "      euclidean_distance = F.pairwise_distance(output1, output2)\n",
        "      euclidean_distance = euclidean_distance.cpu().detach().numpy()\n",
        "      confidence = confidence + euclidean_distance\n",
        "    \n",
        "    confidence = confidence/3\n",
        "    submision_csv.loc[row.Index, 'confidence_score'] = confidence"
      ],
      "execution_count": 0,
      "outputs": []
    },
    {
      "metadata": {
        "id": "5iUJXfAJyW4w",
        "colab_type": "code",
        "colab": {
          "base_uri": "https://localhost:8080/",
          "height": 204
        },
        "outputId": "9d850478-cb73-4208-deb9-e9689e7a78ea"
      },
      "cell_type": "code",
      "source": [
        ""
      ],
      "execution_count": 52,
      "outputs": [
        {
          "output_type": "execute_result",
          "data": {
            "text/html": [
              "<div>\n",
              "<style scoped>\n",
              "    .dataframe tbody tr th:only-of-type {\n",
              "        vertical-align: middle;\n",
              "    }\n",
              "\n",
              "    .dataframe tbody tr th {\n",
              "        vertical-align: top;\n",
              "    }\n",
              "\n",
              "    .dataframe thead th {\n",
              "        text-align: right;\n",
              "    }\n",
              "</style>\n",
              "<table border=\"1\" class=\"dataframe\">\n",
              "  <thead>\n",
              "    <tr style=\"text-align: right;\">\n",
              "      <th></th>\n",
              "      <th>filename</th>\n",
              "      <th>confidence_score</th>\n",
              "      <th>decision</th>\n",
              "    </tr>\n",
              "  </thead>\n",
              "  <tbody>\n",
              "    <tr>\n",
              "      <th>0</th>\n",
              "      <td>U11001_380.jpg</td>\n",
              "      <td>[1.1097552]</td>\n",
              "      <td>NaN</td>\n",
              "    </tr>\n",
              "    <tr>\n",
              "      <th>1</th>\n",
              "      <td>U11001_463.jpg</td>\n",
              "      <td>[1.2613517]</td>\n",
              "      <td>NaN</td>\n",
              "    </tr>\n",
              "    <tr>\n",
              "      <th>2</th>\n",
              "      <td>U11002_292.jpg</td>\n",
              "      <td>[0.71360356]</td>\n",
              "      <td>NaN</td>\n",
              "    </tr>\n",
              "    <tr>\n",
              "      <th>3</th>\n",
              "      <td>U11002_340.jpg</td>\n",
              "      <td>[0.68247753]</td>\n",
              "      <td>NaN</td>\n",
              "    </tr>\n",
              "    <tr>\n",
              "      <th>4</th>\n",
              "      <td>U11002_312.jpg</td>\n",
              "      <td>[1.0208613]</td>\n",
              "      <td>NaN</td>\n",
              "    </tr>\n",
              "  </tbody>\n",
              "</table>\n",
              "</div>"
            ],
            "text/plain": [
              "         filename confidence_score decision\n",
              "0  U11001_380.jpg      [1.1097552]      NaN\n",
              "1  U11001_463.jpg      [1.2613517]      NaN\n",
              "2  U11002_292.jpg     [0.71360356]      NaN\n",
              "3  U11002_340.jpg     [0.68247753]      NaN\n",
              "4  U11002_312.jpg      [1.0208613]      NaN"
            ]
          },
          "metadata": {
            "tags": []
          },
          "execution_count": 52
        }
      ]
    },
    {
      "metadata": {
        "id": "A_mtGarX1ESm",
        "colab_type": "code",
        "colab": {}
      },
      "cell_type": "code",
      "source": [
        "for row in submision_csv.itertuples():\n",
        "  submision_csv.loc[row.Index, 'decision'] = 0\n",
        "  score = row.confidence_score\n",
        "  if score == 0.0:\n",
        "    continue\n",
        "  else:\n",
        "    if score[0] > 0.6:\n",
        "      submision_csv.loc[row.Index, 'decision'] = 1\n",
        "    \n",
        "#   score[0] > 0.6:\n",
        "    \n",
        "#     "
      ],
      "execution_count": 0,
      "outputs": []
    },
    {
      "metadata": {
        "id": "E_2pK1aH7Guv",
        "colab_type": "code",
        "colab": {
          "base_uri": "https://localhost:8080/",
          "height": 204
        },
        "outputId": "25cb2fd5-6379-4a87-c0e6-c5baad6853df"
      },
      "cell_type": "code",
      "source": [
        "submision_csv.head()"
      ],
      "execution_count": 75,
      "outputs": [
        {
          "output_type": "execute_result",
          "data": {
            "text/html": [
              "<div>\n",
              "<style scoped>\n",
              "    .dataframe tbody tr th:only-of-type {\n",
              "        vertical-align: middle;\n",
              "    }\n",
              "\n",
              "    .dataframe tbody tr th {\n",
              "        vertical-align: top;\n",
              "    }\n",
              "\n",
              "    .dataframe thead th {\n",
              "        text-align: right;\n",
              "    }\n",
              "</style>\n",
              "<table border=\"1\" class=\"dataframe\">\n",
              "  <thead>\n",
              "    <tr style=\"text-align: right;\">\n",
              "      <th></th>\n",
              "      <th>filename</th>\n",
              "      <th>confidence_score</th>\n",
              "      <th>decision</th>\n",
              "    </tr>\n",
              "  </thead>\n",
              "  <tbody>\n",
              "    <tr>\n",
              "      <th>0</th>\n",
              "      <td>U11001_380.jpg</td>\n",
              "      <td>[1.1097552]</td>\n",
              "      <td>1</td>\n",
              "    </tr>\n",
              "    <tr>\n",
              "      <th>1</th>\n",
              "      <td>U11001_463.jpg</td>\n",
              "      <td>[1.2613517]</td>\n",
              "      <td>1</td>\n",
              "    </tr>\n",
              "    <tr>\n",
              "      <th>2</th>\n",
              "      <td>U11002_292.jpg</td>\n",
              "      <td>[0.71360356]</td>\n",
              "      <td>1</td>\n",
              "    </tr>\n",
              "    <tr>\n",
              "      <th>3</th>\n",
              "      <td>U11002_340.jpg</td>\n",
              "      <td>[0.68247753]</td>\n",
              "      <td>1</td>\n",
              "    </tr>\n",
              "    <tr>\n",
              "      <th>4</th>\n",
              "      <td>U11002_312.jpg</td>\n",
              "      <td>[1.0208613]</td>\n",
              "      <td>1</td>\n",
              "    </tr>\n",
              "  </tbody>\n",
              "</table>\n",
              "</div>"
            ],
            "text/plain": [
              "         filename confidence_score decision\n",
              "0  U11001_380.jpg      [1.1097552]        1\n",
              "1  U11001_463.jpg      [1.2613517]        1\n",
              "2  U11002_292.jpg     [0.71360356]        1\n",
              "3  U11002_340.jpg     [0.68247753]        1\n",
              "4  U11002_312.jpg      [1.0208613]        1"
            ]
          },
          "metadata": {
            "tags": []
          },
          "execution_count": 75
        }
      ]
    },
    {
      "metadata": {
        "id": "rSg9Fwhh1lSS",
        "colab_type": "code",
        "colab": {}
      },
      "cell_type": "code",
      "source": [
        "# submision_csv.to_csv('/content/drive/My Drive/Colab Notebooks/axis_data/confidence_metric.csv')  \n",
        "submision_csv.to_csv('/content/drive/My Drive/Colab Notebooks/axis_data/final_sub.csv')"
      ],
      "execution_count": 0,
      "outputs": []
    },
    {
      "metadata": {
        "id": "ulVgJaLgyJ8U",
        "colab_type": "code",
        "colab": {}
      },
      "cell_type": "code",
      "source": [
        ""
      ],
      "execution_count": 0,
      "outputs": []
    }
  ]
}